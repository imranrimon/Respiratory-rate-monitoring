{
 "cells": [
  {
   "cell_type": "code",
   "execution_count": null,
   "id": "6ebb6e46",
   "metadata": {},
   "outputs": [
    {
     "name": "stdout",
     "output_type": "stream",
     "text": [
      "Loading Intel Realsense Camera\n"
     ]
    }
   ],
   "source": [
    "import cv2\n",
    "from realsense_camera import *\n",
    "from mask_rcnn import *\n",
    "\n",
    "# Load Realsense camera and Mask R-CNN\n",
    "rs = RealsenseCamera()\n",
    "mrcnn = MaskRCNN()\n",
    "\n",
    "while True:\n",
    "    #Get frame in realtime from realsense camera\n",
    "    ret, bgr_frame, depth_frame = rs.get_frame_stream()\n",
    "    \n",
    "    #Get Object mask\n",
    "    boxes, classes, contours, centers = mrcnn.detect_objects_mask(bgr_frame)\n",
    "    \n",
    "    #Draw Object mask\n",
    "    bgr_frame = mrcnn.draw_object_mask(bgr_frame)\n",
    "    \n",
    "    #Show depth info of the Object\n",
    "    mrcnn.draw_object_info(bgr_frame, depth_frame)\n",
    "    \n",
    "    cv2.imshow(\"Depth frame\", depth_frame)\n",
    "    cv2.imshow(\"BGR frame\", bgr_frame)\n",
    "    \n",
    "    key = cv2.waitKey(1)\n",
    "    if key == 27:\n",
    "        break\n",
    "\n"
   ]
  },
  {
   "cell_type": "code",
   "execution_count": null,
   "id": "f2864412",
   "metadata": {},
   "outputs": [],
   "source": []
  },
  {
   "cell_type": "code",
   "execution_count": null,
   "id": "f0efc87f",
   "metadata": {},
   "outputs": [],
   "source": []
  }
 ],
 "metadata": {
  "kernelspec": {
   "display_name": "Python 3 (ipykernel)",
   "language": "python",
   "name": "python3"
  },
  "language_info": {
   "codemirror_mode": {
    "name": "ipython",
    "version": 3
   },
   "file_extension": ".py",
   "mimetype": "text/x-python",
   "name": "python",
   "nbconvert_exporter": "python",
   "pygments_lexer": "ipython3",
   "version": "3.9.13"
  }
 },
 "nbformat": 4,
 "nbformat_minor": 5
}
